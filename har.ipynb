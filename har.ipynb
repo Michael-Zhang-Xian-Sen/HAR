{
 "cells": [
  {
   "cell_type": "markdown",
   "metadata": {},
   "source": [
    "## Predicting human activity from smart phone sensory data"
   ]
  },
  {
   "cell_type": "markdown",
   "metadata": {},
   "source": [
    "### Introduction\n",
    "\n",
    "In this notebook, the human activity recognition dataset having records of acceleration and angular velocity measurements from different physical aspects in all three spatial dimensions (X, Y, Z) is used to train a machine and predict the activity from one of the six activities performed. \n",
    "\n",
    "To start with, let's do some exploratory analysis in hope of understanding various measures and their effect on the activities."
   ]
  },
  {
   "cell_type": "code",
   "execution_count": 5,
   "metadata": {
    "collapsed": true
   },
   "outputs": [],
   "source": [
    "import pandas as pd\n",
    "import numpy as np\n",
    "from matplotlib import pyplot as plt\n",
    "import seaborn as sb\n",
    "%matplotlib inline"
   ]
  },
  {
   "cell_type": "code",
   "execution_count": 6,
   "metadata": {
    "collapsed": true
   },
   "outputs": [],
   "source": [
    "train = pd.read_csv(\"/Users/babburi/datasets/HAR/samsungData.csv\")"
   ]
  },
  {
   "cell_type": "code",
   "execution_count": 7,
   "metadata": {
    "collapsed": false
   },
   "outputs": [
    {
     "name": "stdout",
     "output_type": "stream",
     "text": [
      "(7352, 563) \n",
      " Index(['tBodyAcc-mean()-X', 'tBodyAcc-mean()-Y', 'tBodyAcc-mean()-Z',\n",
      "       'tBodyAcc-std()-X', 'tBodyAcc-std()-Y', 'tBodyAcc-std()-Z',\n",
      "       'tBodyAcc-mad()-X', 'tBodyAcc-mad()-Y', 'tBodyAcc-mad()-Z',\n",
      "       'tBodyAcc-max()-X',\n",
      "       ...\n",
      "       'fBodyBodyGyroJerkMag-kurtosis()', 'angle(tBodyAccMean,gravity)',\n",
      "       'angle(tBodyAccJerkMean),gravityMean)',\n",
      "       'angle(tBodyGyroMean,gravityMean)',\n",
      "       'angle(tBodyGyroJerkMean,gravityMean)', 'angle(X,gravityMean)',\n",
      "       'angle(Y,gravityMean)', 'angle(Z,gravityMean)', 'subject', 'activity'],\n",
      "      dtype='object', length=563)\n"
     ]
    }
   ],
   "source": [
    "print(train.shape,'\\n', train.columns)"
   ]
  },
  {
   "cell_type": "markdown",
   "metadata": {},
   "source": [
    "### Exploratory Analysis\n",
    "The training data has 7352 observations with 563 variables with the first few columns representing the mean and standard deviations of body accelerations in 3 spatial dimensions (X, Y, Z). The last two columns are \"subject\" and \"acitivity\" which represent the subject that the observation is taken from and the corresponding activity respectively. We can infer that this data is supposed to train machines to recognize activity collected from the accelerometers and gyroscopes built into the smartphones that the subjects had strapped to their waists.\n",
    "\n",
    "Let's see what activities have been recorded in this data."
   ]
  },
  {
   "cell_type": "code",
   "execution_count": 8,
   "metadata": {
    "collapsed": false
   },
   "outputs": [
    {
     "data": {
      "text/plain": [
       "array(['standing', 'sitting', 'laying', 'walk', 'walkdown', 'walkup'], dtype=object)"
      ]
     },
     "execution_count": 8,
     "metadata": {},
     "output_type": "execute_result"
    }
   ],
   "source": [
    "train['activity'].unique()"
   ]
  },
  {
   "cell_type": "markdown",
   "metadata": {},
   "source": [
    "We have 6 activities, 3 passive (laying, standing and sitting) and 3 active (walk, walkdown, walkup) which involve walking. So, each observation in the dataset represent one of the six acitivities whose features are recorded in the 561 variables. Our goal would be trian a machine to predict one of the six activities given a feature set of 561 variables.\n",
    "\n",
    "Let's check how many observations are recorded by each subject."
   ]
  },
  {
   "cell_type": "code",
   "execution_count": 9,
   "metadata": {
    "collapsed": false
   },
   "outputs": [
    {
     "data": {
      "text/html": [
       "<div>\n",
       "<style>\n",
       "    .dataframe thead tr:only-child th {\n",
       "        text-align: right;\n",
       "    }\n",
       "\n",
       "    .dataframe thead th {\n",
       "        text-align: left;\n",
       "    }\n",
       "\n",
       "    .dataframe tbody tr th {\n",
       "        vertical-align: top;\n",
       "    }\n",
       "</style>\n",
       "<table border=\"1\" class=\"dataframe\">\n",
       "  <thead>\n",
       "    <tr style=\"text-align: right;\">\n",
       "      <th>activity</th>\n",
       "      <th>laying</th>\n",
       "      <th>sitting</th>\n",
       "      <th>standing</th>\n",
       "      <th>walk</th>\n",
       "      <th>walkdown</th>\n",
       "      <th>walkup</th>\n",
       "    </tr>\n",
       "    <tr>\n",
       "      <th>subject</th>\n",
       "      <th></th>\n",
       "      <th></th>\n",
       "      <th></th>\n",
       "      <th></th>\n",
       "      <th></th>\n",
       "      <th></th>\n",
       "    </tr>\n",
       "  </thead>\n",
       "  <tbody>\n",
       "    <tr>\n",
       "      <th>1</th>\n",
       "      <td>50</td>\n",
       "      <td>47</td>\n",
       "      <td>53</td>\n",
       "      <td>95</td>\n",
       "      <td>49</td>\n",
       "      <td>53</td>\n",
       "    </tr>\n",
       "    <tr>\n",
       "      <th>3</th>\n",
       "      <td>62</td>\n",
       "      <td>52</td>\n",
       "      <td>61</td>\n",
       "      <td>58</td>\n",
       "      <td>49</td>\n",
       "      <td>59</td>\n",
       "    </tr>\n",
       "    <tr>\n",
       "      <th>5</th>\n",
       "      <td>52</td>\n",
       "      <td>44</td>\n",
       "      <td>56</td>\n",
       "      <td>56</td>\n",
       "      <td>47</td>\n",
       "      <td>47</td>\n",
       "    </tr>\n",
       "    <tr>\n",
       "      <th>6</th>\n",
       "      <td>57</td>\n",
       "      <td>55</td>\n",
       "      <td>57</td>\n",
       "      <td>57</td>\n",
       "      <td>48</td>\n",
       "      <td>51</td>\n",
       "    </tr>\n",
       "    <tr>\n",
       "      <th>7</th>\n",
       "      <td>52</td>\n",
       "      <td>48</td>\n",
       "      <td>53</td>\n",
       "      <td>57</td>\n",
       "      <td>47</td>\n",
       "      <td>51</td>\n",
       "    </tr>\n",
       "    <tr>\n",
       "      <th>8</th>\n",
       "      <td>54</td>\n",
       "      <td>46</td>\n",
       "      <td>54</td>\n",
       "      <td>48</td>\n",
       "      <td>38</td>\n",
       "      <td>41</td>\n",
       "    </tr>\n",
       "    <tr>\n",
       "      <th>11</th>\n",
       "      <td>57</td>\n",
       "      <td>53</td>\n",
       "      <td>47</td>\n",
       "      <td>59</td>\n",
       "      <td>46</td>\n",
       "      <td>54</td>\n",
       "    </tr>\n",
       "    <tr>\n",
       "      <th>14</th>\n",
       "      <td>51</td>\n",
       "      <td>54</td>\n",
       "      <td>60</td>\n",
       "      <td>59</td>\n",
       "      <td>45</td>\n",
       "      <td>54</td>\n",
       "    </tr>\n",
       "    <tr>\n",
       "      <th>15</th>\n",
       "      <td>72</td>\n",
       "      <td>59</td>\n",
       "      <td>53</td>\n",
       "      <td>54</td>\n",
       "      <td>42</td>\n",
       "      <td>48</td>\n",
       "    </tr>\n",
       "    <tr>\n",
       "      <th>16</th>\n",
       "      <td>70</td>\n",
       "      <td>69</td>\n",
       "      <td>78</td>\n",
       "      <td>51</td>\n",
       "      <td>47</td>\n",
       "      <td>51</td>\n",
       "    </tr>\n",
       "    <tr>\n",
       "      <th>17</th>\n",
       "      <td>71</td>\n",
       "      <td>64</td>\n",
       "      <td>78</td>\n",
       "      <td>61</td>\n",
       "      <td>46</td>\n",
       "      <td>48</td>\n",
       "    </tr>\n",
       "    <tr>\n",
       "      <th>19</th>\n",
       "      <td>83</td>\n",
       "      <td>73</td>\n",
       "      <td>73</td>\n",
       "      <td>52</td>\n",
       "      <td>39</td>\n",
       "      <td>40</td>\n",
       "    </tr>\n",
       "    <tr>\n",
       "      <th>21</th>\n",
       "      <td>90</td>\n",
       "      <td>85</td>\n",
       "      <td>89</td>\n",
       "      <td>52</td>\n",
       "      <td>45</td>\n",
       "      <td>47</td>\n",
       "    </tr>\n",
       "    <tr>\n",
       "      <th>22</th>\n",
       "      <td>72</td>\n",
       "      <td>62</td>\n",
       "      <td>63</td>\n",
       "      <td>46</td>\n",
       "      <td>36</td>\n",
       "      <td>42</td>\n",
       "    </tr>\n",
       "    <tr>\n",
       "      <th>23</th>\n",
       "      <td>72</td>\n",
       "      <td>68</td>\n",
       "      <td>68</td>\n",
       "      <td>59</td>\n",
       "      <td>54</td>\n",
       "      <td>51</td>\n",
       "    </tr>\n",
       "    <tr>\n",
       "      <th>25</th>\n",
       "      <td>73</td>\n",
       "      <td>65</td>\n",
       "      <td>74</td>\n",
       "      <td>74</td>\n",
       "      <td>58</td>\n",
       "      <td>65</td>\n",
       "    </tr>\n",
       "    <tr>\n",
       "      <th>26</th>\n",
       "      <td>76</td>\n",
       "      <td>78</td>\n",
       "      <td>74</td>\n",
       "      <td>59</td>\n",
       "      <td>50</td>\n",
       "      <td>55</td>\n",
       "    </tr>\n",
       "    <tr>\n",
       "      <th>27</th>\n",
       "      <td>74</td>\n",
       "      <td>70</td>\n",
       "      <td>80</td>\n",
       "      <td>57</td>\n",
       "      <td>44</td>\n",
       "      <td>51</td>\n",
       "    </tr>\n",
       "    <tr>\n",
       "      <th>28</th>\n",
       "      <td>80</td>\n",
       "      <td>72</td>\n",
       "      <td>79</td>\n",
       "      <td>54</td>\n",
       "      <td>46</td>\n",
       "      <td>51</td>\n",
       "    </tr>\n",
       "    <tr>\n",
       "      <th>29</th>\n",
       "      <td>69</td>\n",
       "      <td>60</td>\n",
       "      <td>65</td>\n",
       "      <td>53</td>\n",
       "      <td>48</td>\n",
       "      <td>49</td>\n",
       "    </tr>\n",
       "    <tr>\n",
       "      <th>30</th>\n",
       "      <td>70</td>\n",
       "      <td>62</td>\n",
       "      <td>59</td>\n",
       "      <td>65</td>\n",
       "      <td>62</td>\n",
       "      <td>65</td>\n",
       "    </tr>\n",
       "  </tbody>\n",
       "</table>\n",
       "</div>"
      ],
      "text/plain": [
       "activity  laying  sitting  standing  walk  walkdown  walkup\n",
       "subject                                                    \n",
       "1             50       47        53    95        49      53\n",
       "3             62       52        61    58        49      59\n",
       "5             52       44        56    56        47      47\n",
       "6             57       55        57    57        48      51\n",
       "7             52       48        53    57        47      51\n",
       "8             54       46        54    48        38      41\n",
       "11            57       53        47    59        46      54\n",
       "14            51       54        60    59        45      54\n",
       "15            72       59        53    54        42      48\n",
       "16            70       69        78    51        47      51\n",
       "17            71       64        78    61        46      48\n",
       "19            83       73        73    52        39      40\n",
       "21            90       85        89    52        45      47\n",
       "22            72       62        63    46        36      42\n",
       "23            72       68        68    59        54      51\n",
       "25            73       65        74    74        58      65\n",
       "26            76       78        74    59        50      55\n",
       "27            74       70        80    57        44      51\n",
       "28            80       72        79    54        46      51\n",
       "29            69       60        65    53        48      49\n",
       "30            70       62        59    65        62      65"
      ]
     },
     "execution_count": 9,
     "metadata": {},
     "output_type": "execute_result"
    }
   ],
   "source": [
    "pd.crosstab(train.subject, train.activity)"
   ]
  },
  {
   "cell_type": "markdown",
   "metadata": {},
   "source": [
    "It is good that the data is almost evenly distributed for all the activities among all the subjects. Let's pick subject 15 and compare the activities with the first three variables - mean body acceleration in 3 spatial dimensions."
   ]
  },
  {
   "cell_type": "code",
   "execution_count": 10,
   "metadata": {
    "collapsed": true
   },
   "outputs": [],
   "source": [
    "sub15 = train.loc[train['subject']==15]"
   ]
  },
  {
   "cell_type": "code",
   "execution_count": 11,
   "metadata": {
    "collapsed": false
   },
   "outputs": [
    {
     "data": {
      "image/png": "[encoded data removed]",
      "text/plain": [
       "<matplotlib.figure.Figure at 0x1188e9198>"
      ]
     },
     "metadata": {},
     "output_type": "display_data"
    }
   ],
   "source": [
    "fig = plt.figure(figsize=(16,12))\n",
    "ax1 = fig.add_subplot(221)\n",
    "ax1 = sb.stripplot(x='activity', y=sub15.iloc[:,0], data=sub15, jitter=True)\n",
    "ax2 = fig.add_subplot(222)\n",
    "ax2 = sb.stripplot(x='activity', y=sub15.iloc[:,1], data=sub15, jitter=True)\n",
    "plt.show()"
   ]
  },
  {
   "cell_type": "markdown",
   "metadata": {},
   "source": [
    "So, the mean body acceleration is more variable for walking activities than for passive ones especially in the X direction. Let's create a dendrogram and see if we can discover any structure with mean body acceleration."
   ]
  },
  {
   "cell_type": "code",
   "execution_count": 12,
   "metadata": {
    "collapsed": false
   },
   "outputs": [
    {
     "name": "stderr",
     "output_type": "stream",
     "text": [
      "/Users/babburi/anaconda/envs/pyEnv_3/lib/python3.6/site-packages/matplotlib/cbook.py:136: MatplotlibDeprecationWarning: The axisbg attribute was deprecated in version 2.0. Use facecolor instead.\n",
      "  warnings.warn(message, mplDeprecation, stacklevel=1)\n"
     ]
    },
    {
     "data": {
      "text/plain": [
       "<seaborn.matrix.ClusterGrid at 0x11f082a58>"
      ]
     },
     "execution_count": 12,
     "metadata": {},
     "output_type": "execute_result"
    },
    {
     "data": {
      "image/png": "[encoded data removed]",
      "text/plain": [
       "<matplotlib.figure.Figure at 0x11f445748>"
      ]
     },
     "metadata": {},
     "output_type": "display_data"
    }
   ],
   "source": [
    "sb.clustermap(sub15.iloc[:,[0,1,2]], col_cluster=False)"
   ]
  },
  {
   "cell_type": "markdown",
   "metadata": {},
   "source": [
    "Even though we see some dark spots in the X and Z directions (possibly from the walking activities), the bulk of the map is pretty homogenous and does not help much. Perhaps other attributes like maximum or minimum acceleration might give us a better insight than the average.\n",
    "\n",
    "Plotting maximum acceleration with activity."
   ]
  },
  {
   "cell_type": "code",
   "execution_count": 13,
   "metadata": {
    "collapsed": false
   },
   "outputs": [
    {
     "data": {
      "image/png": "[encoded data removed]",
      "text/plain": [
       "<matplotlib.figure.Figure at 0x128cd7fd0>"
      ]
     },
     "metadata": {},
     "output_type": "display_data"
    }
   ],
   "source": [
    "fig = plt.figure(figsize=(16,12))\n",
    "ax1 = fig.add_subplot(221)\n",
    "ax1 = sb.stripplot(x='activity', y='tBodyAcc-max()-X', data=sub15, jitter=True)\n",
    "ax2 = fig.add_subplot(222)\n",
    "ax2 = sb.stripplot(x='activity', y='tBodyAcc-max()-Y', data=sub15, jitter=True)\n",
    "plt.show()"
   ]
  },
  {
   "cell_type": "markdown",
   "metadata": {},
   "source": [
    "That's interesting! Passive activities fall mostly below the active ones. It actually makes sense that maximum acceleration is higher during the walking activities. Let's again plot the cluster map but this time with maximum acceleration. Notice the walkdown acitivity is above all others in the X-direction recording values between 0.5 and 0.8."
   ]
  },
  {
   "cell_type": "code",
   "execution_count": 14,
   "metadata": {
    "collapsed": false
   },
   "outputs": [
    {
     "name": "stderr",
     "output_type": "stream",
     "text": [
      "/Users/babburi/anaconda/envs/pyEnv_3/lib/python3.6/site-packages/matplotlib/cbook.py:136: MatplotlibDeprecationWarning: The axisbg attribute was deprecated in version 2.0. Use facecolor instead.\n",
      "  warnings.warn(message, mplDeprecation, stacklevel=1)\n"
     ]
    },
    {
     "data": {
      "text/plain": [
       "<seaborn.matrix.ClusterGrid at 0x1289f8080>"
      ]
     },
     "execution_count": 14,
     "metadata": {},
     "output_type": "execute_result"
    },
    {
     "data": {
      "image/png": "[encoded data removed]",
      "text/plain": [
       "<matplotlib.figure.Figure at 0x1289f8048>"
      ]
     },
     "metadata": {},
     "output_type": "display_data"
    }
   ],
   "source": [
    "sb.clustermap(sub15[['tBodyAcc-max()-X', 'tBodyAcc-max()-Y', 'tBodyAcc-max()-Z']], col_cluster=False)"
   ]
  },
  {
   "cell_type": "markdown",
   "metadata": {},
   "source": [
    "We can now see the difference in the distribution between the active and passive activities with the walkdown activity (values between 0.5 and 0.8) clearly distinct from all others especially in the X-direction. The passive activities are indistinguishable and present no clear pattern in any direction (X, Y, Z).\n",
    "\n",
    "### Clustering using KMeans\n",
    "Now, let us cluster the entire data using KMeans algorithm."
   ]
  },
  {
   "cell_type": "code",
   "execution_count": 15,
   "metadata": {
    "collapsed": true
   },
   "outputs": [],
   "source": [
    "from sklearn.cluster import KMeans"
   ]
  },
  {
   "cell_type": "code",
   "execution_count": 16,
   "metadata": {
    "collapsed": true
   },
   "outputs": [],
   "source": [
    "kmeans = KMeans(n_clusters=6).fit(sub15.iloc[:,:-2])"
   ]
  },
  {
   "cell_type": "code",
   "execution_count": 17,
   "metadata": {
    "collapsed": false
   },
   "outputs": [
    {
     "data": {
      "text/html": [
       "<div>\n",
       "<style>\n",
       "    .dataframe thead tr:only-child th {\n",
       "        text-align: right;\n",
       "    }\n",
       "\n",
       "    .dataframe thead th {\n",
       "        text-align: left;\n",
       "    }\n",
       "\n",
       "    .dataframe tbody tr th {\n",
       "        vertical-align: top;\n",
       "    }\n",
       "</style>\n",
       "<table border=\"1\" class=\"dataframe\">\n",
       "  <thead>\n",
       "    <tr style=\"text-align: right;\">\n",
       "      <th>activity</th>\n",
       "      <th>laying</th>\n",
       "      <th>sitting</th>\n",
       "      <th>standing</th>\n",
       "      <th>walk</th>\n",
       "      <th>walkdown</th>\n",
       "      <th>walkup</th>\n",
       "    </tr>\n",
       "    <tr>\n",
       "      <th>row_0</th>\n",
       "      <th></th>\n",
       "      <th></th>\n",
       "      <th></th>\n",
       "      <th></th>\n",
       "      <th></th>\n",
       "      <th></th>\n",
       "    </tr>\n",
       "  </thead>\n",
       "  <tbody>\n",
       "    <tr>\n",
       "      <th>0</th>\n",
       "      <td>56</td>\n",
       "      <td>0</td>\n",
       "      <td>0</td>\n",
       "      <td>0</td>\n",
       "      <td>0</td>\n",
       "      <td>0</td>\n",
       "    </tr>\n",
       "    <tr>\n",
       "      <th>1</th>\n",
       "      <td>0</td>\n",
       "      <td>0</td>\n",
       "      <td>0</td>\n",
       "      <td>0</td>\n",
       "      <td>0</td>\n",
       "      <td>48</td>\n",
       "    </tr>\n",
       "    <tr>\n",
       "      <th>2</th>\n",
       "      <td>16</td>\n",
       "      <td>15</td>\n",
       "      <td>13</td>\n",
       "      <td>0</td>\n",
       "      <td>0</td>\n",
       "      <td>0</td>\n",
       "    </tr>\n",
       "    <tr>\n",
       "      <th>3</th>\n",
       "      <td>0</td>\n",
       "      <td>0</td>\n",
       "      <td>0</td>\n",
       "      <td>0</td>\n",
       "      <td>42</td>\n",
       "      <td>0</td>\n",
       "    </tr>\n",
       "    <tr>\n",
       "      <th>4</th>\n",
       "      <td>0</td>\n",
       "      <td>44</td>\n",
       "      <td>40</td>\n",
       "      <td>0</td>\n",
       "      <td>0</td>\n",
       "      <td>0</td>\n",
       "    </tr>\n",
       "    <tr>\n",
       "      <th>5</th>\n",
       "      <td>0</td>\n",
       "      <td>0</td>\n",
       "      <td>0</td>\n",
       "      <td>54</td>\n",
       "      <td>0</td>\n",
       "      <td>0</td>\n",
       "    </tr>\n",
       "  </tbody>\n",
       "</table>\n",
       "</div>"
      ],
      "text/plain": [
       "activity  laying  sitting  standing  walk  walkdown  walkup\n",
       "row_0                                                      \n",
       "0             56        0         0     0         0       0\n",
       "1              0        0         0     0         0      48\n",
       "2             16       15        13     0         0       0\n",
       "3              0        0         0     0        42       0\n",
       "4              0       44        40     0         0       0\n",
       "5              0        0         0    54         0       0"
      ]
     },
     "execution_count": 17,
     "metadata": {},
     "output_type": "execute_result"
    }
   ],
   "source": [
    "clust = pd.crosstab(kmeans.labels_, sub15['activity'])\n",
    "clust"
   ]
  },
  {
   "cell_type": "markdown",
   "metadata": {},
   "source": [
    "Upon clustering using kmeans, all the walking activities seem to separate out while the passive ones are still mixed. All three Laying, Sitting and Standing are distributed in two different clusters. "
   ]
  },
  {
   "cell_type": "code",
   "execution_count": 18,
   "metadata": {
    "collapsed": false
   },
   "outputs": [
    {
     "data": {
      "text/plain": [
       "(6, 561)"
      ]
     },
     "execution_count": 18,
     "metadata": {},
     "output_type": "execute_result"
    }
   ],
   "source": [
    "kmeans.cluster_centers_.shape"
   ]
  },
  {
   "cell_type": "code",
   "execution_count": 19,
   "metadata": {
    "collapsed": false,
    "scrolled": true
   },
   "outputs": [
    {
     "data": {
      "text/plain": [
       "[<matplotlib.lines.Line2D at 0x1187cb588>]"
      ]
     },
     "execution_count": 19,
     "metadata": {},
     "output_type": "execute_result"
    },
    {
     "data": {
      "image/png": "[encoded data removed]",
      "text/plain": [
       "<matplotlib.figure.Figure at 0x12961c7b8>"
      ]
     },
     "metadata": {},
     "output_type": "display_data"
    }
   ],
   "source": [
    "plt.plot(kmeans.cluster_centers_[np.asscalar(clust[clust.walkdown!=0].index),:100], \"o\")"
   ]
  },
  {
   "cell_type": "markdown",
   "metadata": {},
   "source": [
    "Here is a plot of first 100 columns for the cluster mapped to 'walkdown' acitivity. The column 40 and a few around 50 seems to be the dominant columns for this cluster center. Let's see what these are."
   ]
  },
  {
   "cell_type": "code",
   "execution_count": 20,
   "metadata": {
    "collapsed": false
   },
   "outputs": [
    {
     "name": "stdout",
     "output_type": "stream",
     "text": [
      "Index(['tGravityAcc-mean()-X', 'tGravityAcc-max()-Y', 'tGravityAcc-max()-Z'], dtype='object')\n"
     ]
    }
   ],
   "source": [
    "print(sub15.columns[[40, 50, 51]])"
   ]
  },
  {
   "cell_type": "markdown",
   "metadata": {},
   "source": [
    "So, the different aspects of gravity have the most effect on 'walkdown' activity which makes perfect sense. Let's make a similar plot for 'sitting' and as it is distributed in two clusters (2 and 5), I am picking cluster 5 since it contains all three passive activities to find out what the dominant columns are.\n",
    "\n",
    "Even though we could not find a clear pattern with any of the passive activities from the analysis so far, it can be inferred that the sensory measurements seem pretty good in order to train a machine and make predictions on new examples."
   ]
  },
  {
   "cell_type": "markdown",
   "metadata": {
    "collapsed": true
   },
   "source": [
    "## Training\n",
    "In this section, I am going to train a model in TensorFlow using the train set and predict the activity using the test set."
   ]
  },
  {
   "cell_type": "code",
   "execution_count": 21,
   "metadata": {
    "collapsed": true
   },
   "outputs": [],
   "source": [
    "import tensorflow as tf"
   ]
  },
  {
   "cell_type": "code",
   "execution_count": 22,
   "metadata": {
    "collapsed": true
   },
   "outputs": [],
   "source": [
    "# load train and test data\n",
    "train_x = np.loadtxt('/Users/babburi/datasets/HAR/train/X_train.txt')\n",
    "train_y = np.loadtxt('/Users/babburi/datasets/HAR/train/y_train.txt')\n",
    "train_y = np.eye(6)[train_y.astype('int')-1] # one-hot encoding\n",
    "test_x = np.loadtxt('/Users/babburi/datasets/HAR/test/X_test.txt')\n",
    "test_y = np.loadtxt('/Users/babburi/datasets/HAR/test/y_test.txt')\n",
    "test_y = np.eye(6)[test_y.astype('int')-1]\n",
    "\n",
    "# shuffle the data\n",
    "seed = 456\n",
    "np.random.seed(seed)\n",
    "np.random.shuffle(train_x)\n",
    "np.random.seed(seed)\n",
    "np.random.shuffle(train_y)\n",
    "np.random.seed(seed)\n",
    "np.random.shuffle(test_x)\n",
    "np.random.seed(seed)\n",
    "np.random.shuffle(test_y)"
   ]
  },
  {
   "cell_type": "markdown",
   "metadata": {},
   "source": [
    "### Softmax Classifier\n",
    "\n",
    "Training a softmax classifier and using gradient descent to optimize the weights."
   ]
  },
  {
   "cell_type": "code",
   "execution_count": 23,
   "metadata": {
    "collapsed": true
   },
   "outputs": [],
   "source": [
    "# place holder variable for x with number of features - 561\n",
    "x = tf.placeholder('float', [None, 561], name='x')\n",
    "# place holder variable for y with the number of activities - 6\n",
    "y = tf.placeholder('float', [None, 6], name='y')\n",
    "# softmax model\n",
    "def train_softmax(x):\n",
    "    W = tf.Variable(tf.zeros([561, 6]), name='weights')\n",
    "    b = tf.Variable(tf.zeros([6]), name='bias')\n",
    "    lr = 0.25\n",
    "    prediction = tf.nn.softmax(tf.matmul(x, W) + b, name='op_predict')\n",
    "    cost = tf.reduce_mean(tf.nn.softmax_cross_entropy_with_logits(logits = prediction, labels = y))\n",
    "    optimizer = tf.train.GradientDescentOptimizer(lr).minimize(cost)\n",
    "    \n",
    "    sess = tf.InteractiveSession()\n",
    "    tf.global_variables_initializer().run()\n",
    "    for epoch in range(1000):\n",
    "        loss = 0\n",
    "        _, c = sess.run([optimizer, cost], feed_dict = {x: train_x, y: train_y})\n",
    "        loss += c\n",
    "        if (epoch % 100 == 0 and epoch != 0):\n",
    "            print('Epoch', epoch, 'completed out of', 1000, 'Training loss:', loss)\n",
    "    correct = tf.equal(tf.argmax(prediction,1), tf.argmax(y,1))\n",
    "    accuracy = tf.reduce_mean(tf.cast(correct, tf.float32), name='op_accuracy')\n",
    "    \n",
    "    print('Train set Accuracy:', sess.run(accuracy, feed_dict = {x: train_x, y: train_y}))\n",
    "    print('Test set Accuracy:', sess.run(accuracy, feed_dict = {x: test_x, y: test_y}))\n"
   ]
  },
  {
   "cell_type": "code",
   "execution_count": 24,
   "metadata": {
    "collapsed": false,
    "scrolled": true
   },
   "outputs": [
    {
     "name": "stdout",
     "output_type": "stream",
     "text": [
      "Epoch 100 completed out of 1000 Training loss: 1.23762512207\n",
      "Epoch 200 completed out of 1000 Training loss: 1.20673799515\n",
      "Epoch 300 completed out of 1000 Training loss: 1.16777598858\n",
      "Epoch 400 completed out of 1000 Training loss: 1.1546690464\n",
      "Epoch 500 completed out of 1000 Training loss: 1.14524233341\n",
      "Epoch 600 completed out of 1000 Training loss: 1.1378569603\n",
      "Epoch 700 completed out of 1000 Training loss: 1.13166248798\n",
      "Epoch 800 completed out of 1000 Training loss: 1.12628424168\n",
      "Epoch 900 completed out of 1000 Training loss: 1.12151241302\n",
      "Train set Accuracy: 0.953482\n",
      "Test set Accuracy: 0.93417\n"
     ]
    }
   ],
   "source": [
    "train_softmax(x)"
   ]
  },
  {
   "cell_type": "markdown",
   "metadata": {},
   "source": [
    "After training for 1000 iterations, we got a test accuracy of approximately 93%."
   ]
  },
  {
   "cell_type": "markdown",
   "metadata": {},
   "source": [
    "### Neural Network Classifier\n",
    "\n",
    "Training using a simple artificial neural network with one hidden layer"
   ]
  },
  {
   "cell_type": "code",
   "execution_count": 25,
   "metadata": {
    "collapsed": true
   },
   "outputs": [],
   "source": [
    "n_nodes_input = 561 # number of input features\n",
    "n_nodes_hl = 30     # number of units in hidden layer\n",
    "n_classes = 6       # number of activities\n",
    "x = tf.placeholder('float', [None, 561])\n",
    "y = tf.placeholder('float')"
   ]
  },
  {
   "cell_type": "code",
   "execution_count": 26,
   "metadata": {
    "collapsed": true
   },
   "outputs": [],
   "source": [
    "def neural_network_model(data):\n",
    "    # define weights and biases for all each layer\n",
    "    hidden_layer = {'weights':tf.Variable(tf.truncated_normal([n_nodes_input, n_nodes_hl], stddev=0.3)),\n",
    "                      'biases':tf.Variable(tf.constant(0.1, shape=[n_nodes_hl]))}\n",
    "    output_layer = {'weights':tf.Variable(tf.truncated_normal([n_nodes_hl, n_classes], stddev=0.3)),\n",
    "                    'biases':tf.Variable(tf.constant(0.1, shape=[n_classes]))}\n",
    "    # feed forward and activations\n",
    "    l1 = tf.add(tf.matmul(data, hidden_layer['weights']), hidden_layer['biases'])\n",
    "    l1 = tf.nn.sigmoid(l1)\n",
    "    output = tf.matmul(l1, output_layer['weights']) + output_layer['biases']\n",
    "    \n",
    "    return output"
   ]
  },
  {
   "cell_type": "code",
   "execution_count": 27,
   "metadata": {
    "collapsed": true
   },
   "outputs": [],
   "source": [
    "def train_neural_network(x):\n",
    "    prediction = neural_network_model(x)\n",
    "    cost = tf.reduce_mean(tf.nn.sigmoid_cross_entropy_with_logits(labels=y,logits=prediction))\n",
    "    optimizer = tf.train.AdamOptimizer().minimize(cost)\n",
    "    \n",
    "    sess = tf.InteractiveSession()\n",
    "    tf.global_variables_initializer().run()\n",
    "    for epoch in range(1000):\n",
    "        loss = 0\n",
    "        _, c = sess.run([optimizer, cost], feed_dict = {x: train_x, y: train_y})\n",
    "        loss += c\n",
    "        if (epoch % 100 == 0 and epoch != 0):\n",
    "            print('Epoch', epoch, 'completed out of', 1000, 'Training loss:', loss)\n",
    "    correct = tf.equal(tf.argmax(prediction,1), tf.argmax(y,1))\n",
    "    accuracy = tf.reduce_mean(tf.cast(correct, tf.float32), name='op_accuracy')\n",
    "    \n",
    "    print('Train set Accuracy:', sess.run(accuracy, feed_dict = {x: train_x, y: train_y}))\n",
    "    print('Test set Accuracy:', sess.run(accuracy, feed_dict = {x: test_x, y: test_y}))"
   ]
  },
  {
   "cell_type": "code",
   "execution_count": 28,
   "metadata": {
    "collapsed": false
   },
   "outputs": [
    {
     "name": "stdout",
     "output_type": "stream",
     "text": [
      "Epoch 100 completed out of 1000 Training loss: 0.33050480485\n",
      "Epoch 200 completed out of 1000 Training loss: 0.246439412236\n",
      "Epoch 300 completed out of 1000 Training loss: 0.181686475873\n",
      "Epoch 400 completed out of 1000 Training loss: 0.134458482265\n",
      "Epoch 500 completed out of 1000 Training loss: 0.104431286454\n",
      "Epoch 600 completed out of 1000 Training loss: 0.0835607722402\n",
      "Epoch 700 completed out of 1000 Training loss: 0.0684749111533\n",
      "Epoch 800 completed out of 1000 Training loss: 0.0571113191545\n",
      "Epoch 900 completed out of 1000 Training loss: 0.048492975533\n",
      "Train set Accuracy: 0.980277\n",
      "Test set Accuracy: 0.953512\n"
     ]
    }
   ],
   "source": [
    "train_neural_network(x)"
   ]
  },
  {
   "cell_type": "markdown",
   "metadata": {
    "collapsed": true
   },
   "source": [
    "Training using the neural network gave us a test accuracy of about 95%. Notice that I did not specify any learning rate here and used just the default from tensorflow. "
   ]
  },
  {
   "cell_type": "code",
   "execution_count": null,
   "metadata": {
    "collapsed": true
   },
   "outputs": [],
   "source": []
  }
 ],
 "metadata": {
  "anaconda-cloud": {},
  "kernelspec": {
   "display_name": "Python 3",
   "language": "python",
   "name": "python3"
  },
  "language_info": {
   "codemirror_mode": {
    "name": "ipython",
    "version": 3
   },
   "file_extension": ".py",
   "mimetype": "text/x-python",
   "name": "python",
   "nbconvert_exporter": "python",
   "pygments_lexer": "ipython3",
   "version": "3.6.0"
  }
 },
 "nbformat": 4,
 "nbformat_minor": 1
}
