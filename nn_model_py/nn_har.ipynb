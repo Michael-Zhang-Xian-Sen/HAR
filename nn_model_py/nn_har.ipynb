{
 "cells": [
  {
   "cell_type": "code",
   "execution_count": 1,
   "metadata": {
    "collapsed": true
   },
   "outputs": [],
   "source": [
    "import tensorflow as tf\n",
    "import numpy as np"
   ]
  },
  {
   "cell_type": "code",
   "execution_count": 2,
   "metadata": {
    "collapsed": true
   },
   "outputs": [],
   "source": [
    "train_x = np.loadtxt('/Users/babburi/datasets/HAR/train/X_train.txt')\n",
    "train_y = np.loadtxt('/Users/babburi/datasets/HAR/train/y_train.txt')\n",
    "train_y = np.eye(6)[train_y.astype('int')-1] # one-hot encoding\n",
    "test_x = np.loadtxt('/Users/babburi/datasets/HAR/test/X_test.txt')\n",
    "test_y = np.loadtxt('/Users/babburi/datasets/HAR/test/y_test.txt')\n",
    "test_y = np.eye(6)[test_y.astype('int')-1]\n",
    "\n",
    "seed = 456\n",
    "np.random.seed(seed)\n",
    "np.random.shuffle(train_x)\n",
    "np.random.seed(seed)\n",
    "np.random.shuffle(train_y)\n",
    "np.random.seed(seed)\n",
    "np.random.shuffle(test_x)\n",
    "np.random.seed(seed)\n",
    "np.random.shuffle(test_y)"
   ]
  },
  {
   "cell_type": "code",
   "execution_count": 3,
   "metadata": {
    "collapsed": true
   },
   "outputs": [],
   "source": [
    "n_nodes_input = 561\n",
    "n_nodes_hl = 30\n",
    "n_classes = 6\n",
    "x = tf.placeholder('float', [None, 561])\n",
    "y = tf.placeholder('float')\n",
    "#global_step = tf.Variable(0, name='global_step', trainable=False)\n",
    "initial_lr = 0.1"
   ]
  },
  {
   "cell_type": "code",
   "execution_count": 11,
   "metadata": {
    "collapsed": true
   },
   "outputs": [],
   "source": [
    "def neural_network_model(data):\n",
    "    # define weights and biases for all each layer\n",
    "    hidden_layer = {'weights':tf.Variable(tf.truncated_normal([n_nodes_input, n_nodes_hl], stddev=0.3)),\n",
    "                      'biases':tf.Variable(tf.constant(0.1, shape=[n_nodes_hl]))}\n",
    "    output_layer = {'weights':tf.Variable(tf.truncated_normal([n_nodes_hl, n_classes], stddev=0.3)),\n",
    "                    'biases':tf.Variable(tf.constant(0.1, shape=[n_classes]))}\n",
    "    # feed forward and activations\n",
    "    l1 = tf.add(tf.matmul(data, hidden_layer['weights']), hidden_layer['biases'])\n",
    "    l1 = tf.nn.sigmoid(l1)\n",
    "    output = tf.matmul(l1, output_layer['weights']) + output_layer['biases']\n",
    "    \n",
    "    return output"
   ]
  },
  {
   "cell_type": "code",
   "execution_count": 16,
   "metadata": {
    "collapsed": true
   },
   "outputs": [],
   "source": [
    "def train_neural_network(x):\n",
    "    #lr = tf.train.exponential_decay(initial_lr, global_step, 1000, 0.96, staircase=True)\n",
    "    prediction = neural_network_model(x)\n",
    "    cost = tf.reduce_mean(tf.nn.sigmoid_cross_entropy_with_logits(labels=y,logits=prediction))\n",
    "    optimizer = tf.train.AdamOptimizer().minimize(cost)\n",
    "    \n",
    "    sess = tf.InteractiveSession()\n",
    "    tf.global_variables_initializer().run()\n",
    "    for epoch in range(1000):\n",
    "        loss = 0\n",
    "        _, c = sess.run([optimizer, cost], feed_dict = {x: train_x, y: train_y})\n",
    "        loss += c\n",
    "        if (epoch % 100 == 0 and epoch != 0):\n",
    "            print('Epoch', epoch, 'completed out of', 1000, 'Training loss:', loss)\n",
    "    correct = tf.equal(tf.argmax(prediction,1), tf.argmax(y,1))\n",
    "    accuracy = tf.reduce_mean(tf.cast(correct, tf.float32), name='op_accuracy')\n",
    "    \n",
    "    print('Test set Accuracy:', sess.run(accuracy, feed_dict = {x: test_x, y: test_y}))"
   ]
  },
  {
   "cell_type": "code",
   "execution_count": 17,
   "metadata": {},
   "outputs": [
    {
     "name": "stdout",
     "output_type": "stream",
     "text": [
      "Epoch 100 completed out of 1000 Training loss: 0.38831833005\n",
      "Epoch 200 completed out of 1000 Training loss: 0.311929166317\n",
      "Epoch 300 completed out of 1000 Training loss: 0.261933743954\n",
      "Epoch 400 completed out of 1000 Training loss: 0.217232555151\n",
      "Epoch 500 completed out of 1000 Training loss: 0.180498018861\n",
      "Epoch 600 completed out of 1000 Training loss: 0.151680067182\n",
      "Epoch 700 completed out of 1000 Training loss: 0.123882032931\n",
      "Epoch 800 completed out of 1000 Training loss: 0.101448066533\n",
      "Epoch 900 completed out of 1000 Training loss: 0.0848900973797\n",
      "Test set Accuracy: 0.951815\n"
     ]
    }
   ],
   "source": [
    "train_neural_network(x)"
   ]
  },
  {
   "cell_type": "code",
   "execution_count": null,
   "metadata": {
    "collapsed": true
   },
   "outputs": [],
   "source": []
  }
 ],
 "metadata": {
  "kernelspec": {
   "display_name": "Python 3",
   "language": "python",
   "name": "python3"
  },
  "language_info": {
   "codemirror_mode": {
    "name": "ipython",
    "version": 3
   },
   "file_extension": ".py",
   "mimetype": "text/x-python",
   "name": "python",
   "nbconvert_exporter": "python",
   "pygments_lexer": "ipython3",
   "version": "3.6.1"
  }
 },
 "nbformat": 4,
 "nbformat_minor": 2
}
